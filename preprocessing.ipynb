{
 "cells": [
  {
   "cell_type": "code",
   "execution_count": 1,
   "metadata": {
    "id": "HF3CcTbjZPTb"
   },
   "outputs": [],
   "source": [
    "import os\n",
    "import numpy as np\n",
    "import pandas as pd\n",
    "# import matplotlib.pyplot as plt\n",
    "# import seaborn as sns\n",
    "from tqdm.notebook import tqdm\n",
    "\n",
    "from sklearn.model_selection import train_test_split\n",
    "from xgboost import XGBRegressor\n",
    "\n",
    "from sklearn.compose import ColumnTransformer\n",
    "from sklearn.pipeline import Pipeline\n",
    "from sklearn.preprocessing import OneHotEncoder, StandardScaler, OrdinalEncoder\n",
    "from sklearn.exceptions import NotFittedError\n",
    "\n",
    "import typing\n",
    "from sklearn.base import BaseEstimator,TransformerMixin\n",
    "from sklearn.exceptions import NotFittedError"
   ]
  },
  {
   "cell_type": "code",
   "execution_count": 2,
   "metadata": {
    "colab": {
     "base_uri": "https://localhost:8080/"
    },
    "id": "R2gH3qTKEjEt",
    "outputId": "76e6fb48-8335-4c71-ba2c-7cf335e8abd5"
   },
   "outputs": [],
   "source": [
    "# from google.colab import drive\n",
    "# drive.mount('/content/drive')"
   ]
  },
  {
   "cell_type": "code",
   "execution_count": 3,
   "metadata": {
    "id": "_keX0Ll8ZXcq"
   },
   "outputs": [],
   "source": [
    "data = pd.read_csv('../data/train.csv', low_memory=False)\n",
    "test = pd.read_csv('../data/test.csv', low_memory=False)"
   ]
  },
  {
   "cell_type": "code",
   "execution_count": 4,
   "metadata": {
    "id": "JHMFNgane4Fz"
   },
   "outputs": [],
   "source": [
    "TARGET = 'per_square_meter_price'\n",
    "# признаки (или набор признаков), для которых применяем smoothed target encoding\n",
    "CATEGORICAL_STE_FEATURES = ['region', 'city', 'realty_type']\n",
    "\n",
    "# признаки, для которых применяем one hot encoding\n",
    "CATEGORICAL_ONE_FEATURES = []\n",
    "\n",
    "# численные признаки\n",
    "NUM_FEATURES = ['lat', 'lng', 'osm_amenity_points_in_0.001',\n",
    "       'osm_amenity_points_in_0.005', 'osm_amenity_points_in_0.0075',\n",
    "       'osm_amenity_points_in_0.01', 'osm_building_points_in_0.001',\n",
    "       'osm_building_points_in_0.005', 'osm_building_points_in_0.0075',\n",
    "       'osm_building_points_in_0.01', 'osm_catering_points_in_0.001',\n",
    "       'osm_catering_points_in_0.005', 'osm_catering_points_in_0.0075',\n",
    "       'osm_catering_points_in_0.01', 'osm_city_closest_dist',\n",
    "      'osm_city_nearest_population',\n",
    "       'osm_crossing_closest_dist', 'osm_crossing_points_in_0.001',\n",
    "       'osm_crossing_points_in_0.005', 'osm_crossing_points_in_0.0075',\n",
    "       'osm_crossing_points_in_0.01', 'osm_culture_points_in_0.001',\n",
    "       'osm_culture_points_in_0.005', 'osm_culture_points_in_0.0075',\n",
    "       'osm_culture_points_in_0.01', 'osm_finance_points_in_0.001',\n",
    "       'osm_finance_points_in_0.005', 'osm_finance_points_in_0.0075',\n",
    "       'osm_finance_points_in_0.01', 'osm_healthcare_points_in_0.005',\n",
    "       'osm_healthcare_points_in_0.0075', 'osm_healthcare_points_in_0.01',\n",
    "       'osm_historic_points_in_0.005', 'osm_historic_points_in_0.0075',\n",
    "       'osm_historic_points_in_0.01', 'osm_hotels_points_in_0.005',\n",
    "       'osm_hotels_points_in_0.0075', 'osm_hotels_points_in_0.01',\n",
    "       'osm_leisure_points_in_0.005', 'osm_leisure_points_in_0.0075',\n",
    "       'osm_leisure_points_in_0.01', 'osm_offices_points_in_0.001',\n",
    "       'osm_offices_points_in_0.005', 'osm_offices_points_in_0.0075',\n",
    "       'osm_offices_points_in_0.01', 'osm_shops_points_in_0.001',\n",
    "       'osm_shops_points_in_0.005', 'osm_shops_points_in_0.0075',\n",
    "       'osm_shops_points_in_0.01', 'osm_subway_closest_dist',\n",
    "       'osm_train_stop_closest_dist', 'osm_train_stop_points_in_0.005',\n",
    "       'osm_train_stop_points_in_0.0075', 'osm_train_stop_points_in_0.01',\n",
    "       'osm_transport_stop_closest_dist', 'osm_transport_stop_points_in_0.005',\n",
    "       'osm_transport_stop_points_in_0.0075',\n",
    "       'osm_transport_stop_points_in_0.01',\n",
    "       'reform_count_of_houses_1000', 'reform_count_of_houses_500',\n",
    "       'reform_house_population_1000', 'reform_house_population_500',\n",
    "       'reform_mean_floor_count_1000', 'reform_mean_floor_count_500',\n",
    "       'reform_mean_year_building_1000', 'reform_mean_year_building_500','total_square']\n",
    "\n",
    "MODEL_PARAMS = dict(\n",
    "            n_estimators=2000,\n",
    "            learning_rate=0.01,\n",
    "            reg_alpha=1,\n",
    "            num_leaves=40,\n",
    "            min_child_samples=5,\n",
    "            importance_type=\"gain\",\n",
    "            n_jobs=1,\n",
    "            random_state=563,\n",
    "        )"
   ]
  },
  {
   "cell_type": "code",
   "execution_count": 5,
   "metadata": {
    "id": "W7b-oU0Pa3_v"
   },
   "outputs": [],
   "source": [
    "data['floor'] = data['floor'].fillna(50) #средняя цена для этажа\n",
    "test['floor'] = test['floor'].fillna(50) #средняя цена для этажа"
   ]
  },
  {
   "cell_type": "code",
   "execution_count": 6,
   "metadata": {
    "colab": {
     "base_uri": "https://localhost:8080/"
    },
    "id": "7EH4UBxHgkR6",
    "outputId": "9a42e958-b7c2-4591-f7eb-513502d3ee31"
   },
   "outputs": [
    {
     "data": {
      "text/plain": [
       "(array([50, '3.0', '4.0', '-1.0', '1.0', '14.0', '2.0', '8.0', '-2.0',\n",
       "        '6.0', '10.0', '5.0', '16.0', '19.0', '7.0', '9.0', '58.0', '24.0',\n",
       "        '18.0', '26.0', '17.0', '48.0', '11.0', '-3.0', '15.0', '22.0',\n",
       "        '60.0', '12.0', '21.0', '35.0', '28.0', '38.0', '39.0', '13.0',\n",
       "        '81.0', '44.0', '82.0', '25.0', '45.0', '47.0', '23.0', '37.0',\n",
       "        '29.0', '113.0', '78.0', '42.0', '69.0', '27.0', '46.0', '53.0',\n",
       "        '80.0', '70.0', '76.0', '64.0', '30.0', '73.0', '77.0', '52.0',\n",
       "        '67.0', '65.0', '20.0', '40.0', '49.0', '75.0', '93.0', '94.0',\n",
       "        '91.0', '72.0', '79.0', '84.0', '92.0', '33.0', '66.0', '90.0',\n",
       "        '31.0', '36.0', '61.0', '71.0', '68.0', '51.0', '97.0', '43.0',\n",
       "        '95.0', '85.0', '50.0', '0.0', '62.0', '54.0', '74.0', '57.0',\n",
       "        '41.0', '34.0', '59.0', '56.0', '123.0', '55.0', '83.0', '1',\n",
       "        'подвал, 1', '2', 'подвал', 'цоколь, 1', '1,2,антресоль', 'цоколь',\n",
       "        '4', '5', 'тех.этаж (6)', '3', 'Подвал', 'Цоколь', '10',\n",
       "        'фактически на уровне 1 этажа', '6', '1,2,3', '1, подвал',\n",
       "        '1,2,3,4', '1,2', '1,2,3,4,5', '5, мансарда', '1-й, подвал', '12',\n",
       "        '15', '13', '1, подвал, антресоль', 'мезонин', 'подвал, 1-3', '8',\n",
       "        '7', '1 (Цокольный этаж)', '3, Мансарда (4 эт)', 'подвал,1',\n",
       "        '1, антресоль', '1-3', 'мансарда (4эт)', '1, 2.', '9',\n",
       "        'подвал , 1 ', '1, 2', 'подвал, 1,2,3', '1 + подвал (без отделки)',\n",
       "        'мансарда', '2,3', '4, 5', '1-й, 2-й', '18', '1 этаж, подвал',\n",
       "        '1, цоколь', 'подвал, 1-7, техэтаж', '3 (антресоль)', '1, 2, 3',\n",
       "        'Цоколь, 1,2(мансарда)', 'подвал, 3. 4 этаж', 'подвал, 1-4 этаж',\n",
       "        'подва, 1.2 этаж', '2, 3', '-1', '1.2', '11', '36', '7,8',\n",
       "        '1 этаж', '1-й', '3 этаж', '4 этаж', '5 этаж', 'подвал,1,2,3,4,5',\n",
       "        '29', 'подвал, цоколь, 1 этаж', '3, мансарда'], dtype=object),\n",
       " array(['1.0', '-1.0', 50, '2,3', '2', '-2.0', '5.0', '4', '1', '5',\n",
       "        '1, 2', '1,2,3', '2.0', '4.0', '1,2,3,4', 'цоколь', '3', 'подвал',\n",
       "        '3.0', '11.0', '9.0', '12.0', '0.0', 'цоколь, 1, 2,3,4,5,6', '6',\n",
       "        '1,2', ' 1, 2, Антресоль', '6.0', '3 этаж, мансарда (4 этаж)',\n",
       "        'цокольный', '1-й, 2-й', '13', '1, подвал', '7', '1, 2, 3', '1,2 ',\n",
       "        '14', '9', 'подвал,1', '1-й', '8', '3,4', 'мансарда',\n",
       "        'подвал, 1 и 4 этаж', '10.0', '5(мансарда)',\n",
       "        'технический этаж,5,6', ' 1-2, подвальный', '1, 2, 3, мансардный',\n",
       "        '8.0', '7.0', 'подвал, 1, 2, 3',\n",
       "        '1,2,3, антресоль, технический этаж', '3, 4', '4, 5',\n",
       "        '1-3 этажи, цоколь (188,4 кв.м), подвал (104 кв.м)',\n",
       "        '1,2,3,4, подвал', '2-й', '1, 2 этаж', '1,2,3,4,5', 'подвал, 1, 2',\n",
       "        '1-7', '1 (по док-м цоколь)', '1-й, подвал', '10', '1,2,подвал ',\n",
       "        '13.0', 'подвал, 2', '1, цоколь', 'подвал,1,2,3',\n",
       "        '1,2,3 этаж, подвал', 'цоколь, 1', '2, 3, 4, тех.этаж',\n",
       "        'цокольный, 1,2', 'Техническое подполье'], dtype=object))"
      ]
     },
     "execution_count": 6,
     "metadata": {},
     "output_type": "execute_result"
    }
   ],
   "source": [
    "pd.unique(data['floor']), pd.unique(test['floor'])"
   ]
  },
  {
   "cell_type": "code",
   "execution_count": 7,
   "metadata": {
    "id": "hBKljPZQqGBV"
   },
   "outputs": [],
   "source": [
    "bad_floor_dict = {'nan': 50, \"подвал, 1\": -1, 'подвал': -1, 'цоколь, 1': 1, \n",
    "                  '1,2,антресоль': 4, 'цоколь': 1, 'тех.этаж (6)': 6, \n",
    "                  'Подвал': -1, 'Цоколь': 1, 'фактически на уровне 1 этажа': 1,\n",
    "                  '1,2,3': 2, '1, подвал': -1, '1,2,3,4': 2, '1,2': 1, \n",
    "                  '1,2,3,4,5': 3, '5, мансарда': 5, '1-й, подвал': -1, \n",
    "                  '1, подвал, антресоль': -1, 'мезонин': 4, 'подвал, 1-3': -2, \n",
    "                  '1 (Цокольный этаж)': 1, '3, Мансарда (4 эт)': 4, \n",
    "                  'подвал,1': -1, '1, антресоль': 1, '1-3': 2, 'мансарда (4эт)': 4,\n",
    "                  '1, 2.': 2, 'подвал , 1 ': -1, '1, 2': 2, 'подвал, 1,2,3': -2,\n",
    "                  '1 + подвал (без отделки)': -1, 'мансарда': 4, '2,3': 2, \n",
    "                  \"4, 5\": 4, '1-й, 2-й': 2, '1 этаж, подвал': -1, '1, цоколь': 1, \n",
    "                  'подвал, 1-7, техэтаж': 4, '3 (антресоль)': 3, '1, 2, 3': 2,\n",
    "                  'Цоколь, 1,2(мансарда)': 2, 'подвал, 3. 4 этаж': 2, \n",
    "                  'подвал, 1-4 этаж': 2, 'подва, 1.2 этаж': 1, '2, 3': 2, '1.2': 2,\n",
    "                  '7,8': 7, '1 этаж': 1, '1-й': 1,  '3 этаж': 3, '4 этаж': 4, \n",
    "                  '5 этаж': 5, 'подвал,1,2,3,4,5': 2, 'подвал, цоколь, 1 этаж': 1,\n",
    "                  '3, мансарда': 3, 'цоколь, 1, 2,3,4,5,6' : 3, ' 1, 2, Антресоль' : 2, \n",
    "                  '3 этаж, мансарда (4 этаж)' : 3.5, 'цокольный' : 1, '1,2 ' : 1.5, \n",
    "                  '3,4' : 3.5, 'подвал, 1 и 4 этаж' : 1, '5(мансарда)': 5,\n",
    "                  'технический этаж,5,6' : 5.5, ' 1-2, подвальный' : 1, '1, 2, 3, мансардный' : 2,\n",
    "                  'подвал, 1, 2, 3' : 2, '1,2,3, антресоль, технический этаж' : 2.5, '3, 4' : 3.5,\n",
    "                  '1-3 этажи, цоколь (188,4 кв.м), подвал (104 кв.м)' : 2.5, '1,2,3,4, подвал' : 2, \n",
    "                  '2-й' : 2, '1, 2 этаж' : 1.5, 'подвал, 1, 2' : 1, '1-7' : 4.5, '1 (по док-м цоколь)' : 1,\n",
    "                  '1,2,подвал ' : 1, 'подвал, 2' : 1, 'подвал,1,2,3' : 1.5, '1,2,3 этаж, подвал' : 1.5,\n",
    "                  '2, 3, 4, тех.этаж' : 3, 'цокольный, 1,2' : 1, 'Техническое подполье' : 1}\n",
    "def clear_unique(data):\n",
    "    for ind, row in data.iterrows():\n",
    "        if row['floor'] in bad_floor_dict:\n",
    "          data.loc[ind, 'floor'] = bad_floor_dict.get(row['floor'], 50)\n",
    "    return data"
   ]
  },
  {
   "cell_type": "code",
   "execution_count": 8,
   "metadata": {
    "id": "VFNRUmAmqd3f"
   },
   "outputs": [],
   "source": [
    "data = clear_unique(data)\n",
    "test = clear_unique(test)"
   ]
  },
  {
   "cell_type": "code",
   "execution_count": 9,
   "metadata": {
    "colab": {
     "base_uri": "https://localhost:8080/"
    },
    "id": "LyvPNORatQfb",
    "outputId": "b52c1221-e2e3-4548-a14d-43368e990883"
   },
   "outputs": [
    {
     "data": {
      "text/plain": [
       "(array([50, '3.0', '4.0', '-1.0', '1.0', '14.0', '2.0', '8.0', '-2.0',\n",
       "        '6.0', '10.0', '5.0', '16.0', '19.0', '7.0', '9.0', '58.0', '24.0',\n",
       "        '18.0', '26.0', '17.0', '48.0', '11.0', '-3.0', '15.0', '22.0',\n",
       "        '60.0', '12.0', '21.0', '35.0', '28.0', '38.0', '39.0', '13.0',\n",
       "        '81.0', '44.0', '82.0', '25.0', '45.0', '47.0', '23.0', '37.0',\n",
       "        '29.0', '113.0', '78.0', '42.0', '69.0', '27.0', '46.0', '53.0',\n",
       "        '80.0', '70.0', '76.0', '64.0', '30.0', '73.0', '77.0', '52.0',\n",
       "        '67.0', '65.0', '20.0', '40.0', '49.0', '75.0', '93.0', '94.0',\n",
       "        '91.0', '72.0', '79.0', '84.0', '92.0', '33.0', '66.0', '90.0',\n",
       "        '31.0', '36.0', '61.0', '71.0', '68.0', '51.0', '97.0', '43.0',\n",
       "        '95.0', '85.0', '50.0', '0.0', '62.0', '54.0', '74.0', '57.0',\n",
       "        '41.0', '34.0', '59.0', '56.0', '123.0', '55.0', '83.0', '1', -1,\n",
       "        '2', 1, 4, '4', '5', 6, '3', '10', '6', 2, 3, 5, '12', '15', '13',\n",
       "        -2, '8', '7', '9', '18', '-1', '11', '36', 7, '29'], dtype=object),\n",
       " array(['1.0', '-1.0', 50, 2, '2', '-2.0', '5.0', '4', '1', '5', '2.0',\n",
       "        '4.0', 1, '3', -1, '3.0', '11.0', '9.0', '12.0', '0.0', 3, '6',\n",
       "        '6.0', 3.5, '13', '7', 1.5, '14', '9', '8', 4, '10.0', 5, 5.5,\n",
       "        '8.0', '7.0', 2.5, 4.5, '10', '13.0'], dtype=object))"
      ]
     },
     "execution_count": 9,
     "metadata": {},
     "output_type": "execute_result"
    }
   ],
   "source": [
    "pd.unique(data['floor']), pd.unique(test['floor'])"
   ]
  },
  {
   "cell_type": "code",
   "execution_count": 10,
   "metadata": {
    "id": "k8rrLd1DFwp0"
   },
   "outputs": [],
   "source": [
    "data['floor'] = pd.to_numeric(data['floor'])\n",
    "test['floor'] = pd.to_numeric(test['floor'])"
   ]
  },
  {
   "cell_type": "code",
   "execution_count": 11,
   "metadata": {
    "colab": {
     "base_uri": "https://localhost:8080/"
    },
    "id": "Py-KZyzPcdmp",
    "outputId": "9f5b4acf-b385-43b1-c181-0832b897bbc8"
   },
   "outputs": [
    {
     "name": "stdout",
     "output_type": "stream",
     "text": [
      "osm_city_nearest_population 55\n",
      "reform_house_population_1000 14596\n",
      "reform_house_population_500 27234\n",
      "reform_mean_floor_count_1000 16708\n",
      "reform_mean_floor_count_500 30168\n",
      "reform_mean_year_building_1000 16239\n",
      "reform_mean_year_building_500 29637\n",
      "street 1606\n",
      "reform_house_population_1000 35\n",
      "reform_house_population_500 48\n",
      "reform_mean_floor_count_1000 35\n",
      "reform_mean_floor_count_500 48\n",
      "reform_mean_year_building_1000 35\n",
      "reform_mean_year_building_500 48\n",
      "street 6\n"
     ]
    }
   ],
   "source": [
    "list_for_nan = []\n",
    "for column in data:\n",
    "    if data[column].isna().sum() > 0:\n",
    "      list_for_nan.append(column)\n",
    "      print(column, data[column].isna().sum())\n",
    "list_for_nan.remove('street')\n",
    "\n",
    "list_for_nan = []\n",
    "for column in test:\n",
    "    if test[column].isna().sum() > 0:\n",
    "      list_for_nan.append(column)\n",
    "      print(column, test[column].isna().sum())\n",
    "list_for_nan.remove('street')"
   ]
  },
  {
   "cell_type": "code",
   "execution_count": 12,
   "metadata": {
    "id": "OdzerfzgdOin"
   },
   "outputs": [],
   "source": [
    "p = data\n",
    "p.fillna(0)\n",
    "for i in list_for_nan:\n",
    "  data[i].fillna(pd.to_numeric(p[i]).mean())\n",
    "\n",
    "p = test\n",
    "p.fillna(0)\n",
    "for i in list_for_nan:\n",
    "  test[i].fillna(pd.to_numeric(p[i]).mean())"
   ]
  },
  {
   "cell_type": "code",
   "execution_count": 13,
   "metadata": {
    "colab": {
     "base_uri": "https://localhost:8080/",
     "height": 326
    },
    "id": "gJpZ--4vjQ7i",
    "outputId": "3c4cc05e-49e5-4a38-bb84-2548ff9f6cae"
   },
   "outputs": [],
   "source": [
    "scl = StandardScaler()\n",
    "num_features = data[NUM_FEATURES]\n",
    "scl.fit(num_features)\n",
    "\n",
    "num_features = scl.transform(test[NUM_FEATURES])\n",
    "test[NUM_FEATURES] = num_features\n",
    "\n",
    "num_features = scl.transform(data[NUM_FEATURES])\n",
    "data[NUM_FEATURES] = num_features"
   ]
  },
  {
   "cell_type": "code",
   "execution_count": 14,
   "metadata": {
    "id": "5GG7BKtUhqwQ"
   },
   "outputs": [
    {
     "name": "stderr",
     "output_type": "stream",
     "text": [
      "/tmp/ipykernel_3118/831240988.py:1: FutureWarning: In a future version of pandas all arguments of DataFrame.drop except for the argument 'labels' will be keyword-only\n",
      "  data = data.drop('id', 1)\n",
      "/tmp/ipykernel_3118/831240988.py:2: FutureWarning: In a future version of pandas all arguments of DataFrame.drop except for the argument 'labels' will be keyword-only\n",
      "  data = data.drop('date', 1)\n",
      "/tmp/ipykernel_3118/831240988.py:3: FutureWarning: In a future version of pandas all arguments of DataFrame.drop except for the argument 'labels' will be keyword-only\n",
      "  data = data.drop(\"street\", 1)\n",
      "/tmp/ipykernel_3118/831240988.py:4: FutureWarning: In a future version of pandas all arguments of DataFrame.drop except for the argument 'labels' will be keyword-only\n",
      "  data = data.drop(\"city\", 1)\n",
      "/tmp/ipykernel_3118/831240988.py:5: FutureWarning: In a future version of pandas all arguments of DataFrame.drop except for the argument 'labels' will be keyword-only\n",
      "  data = data.drop(\"region\", 1)\n",
      "/tmp/ipykernel_3118/831240988.py:7: FutureWarning: In a future version of pandas all arguments of DataFrame.drop except for the argument 'labels' will be keyword-only\n",
      "  test = test.drop('id', 1)\n",
      "/tmp/ipykernel_3118/831240988.py:8: FutureWarning: In a future version of pandas all arguments of DataFrame.drop except for the argument 'labels' will be keyword-only\n",
      "  test = test.drop('date', 1)\n",
      "/tmp/ipykernel_3118/831240988.py:9: FutureWarning: In a future version of pandas all arguments of DataFrame.drop except for the argument 'labels' will be keyword-only\n",
      "  test = test.drop(\"street\", 1)\n",
      "/tmp/ipykernel_3118/831240988.py:10: FutureWarning: In a future version of pandas all arguments of DataFrame.drop except for the argument 'labels' will be keyword-only\n",
      "  test = test.drop(\"city\", 1)\n",
      "/tmp/ipykernel_3118/831240988.py:11: FutureWarning: In a future version of pandas all arguments of DataFrame.drop except for the argument 'labels' will be keyword-only\n",
      "  test = test.drop(\"region\", 1)\n"
     ]
    }
   ],
   "source": [
    "data = data.drop('id', 1)\n",
    "data = data.drop('date', 1)\n",
    "data = data.drop(\"street\", 1)\n",
    "data = data.drop(\"city\", 1)\n",
    "data = data.drop(\"region\", 1)\n",
    "\n",
    "test = test.drop('id', 1)\n",
    "test = test.drop('date', 1)\n",
    "test = test.drop(\"street\", 1)\n",
    "test = test.drop(\"city\", 1)\n",
    "test = test.drop(\"region\", 1)"
   ]
  },
  {
   "cell_type": "code",
   "execution_count": 15,
   "metadata": {
    "id": "zNub9kXo0elG"
   },
   "outputs": [],
   "source": [
    "from sklearn.preprocessing import OneHotEncoder\n",
    "\n",
    "CATEGORICAL_OHE_FEATURES = [\"osm_city_nearest_name\"]\n",
    "def get_one_hot(data):\n",
    "  for column in CATEGORICAL_OHE_FEATURES:\n",
    "      tempdf = pd.get_dummies(data[column], prefix=column)\n",
    "      data = pd.merge(\n",
    "          left=data,\n",
    "          right=tempdf,\n",
    "          left_index=True,\n",
    "          right_index=True,\n",
    "      )\n",
    "      data = data.drop(columns=column)\n",
    "  return data"
   ]
  },
  {
   "cell_type": "code",
   "execution_count": 16,
   "metadata": {
    "id": "GBEKpN_BC42h"
   },
   "outputs": [],
   "source": [
    "data = get_one_hot(data)\n",
    "test = get_one_hot(test)"
   ]
  },
  {
   "cell_type": "code",
   "execution_count": 17,
   "metadata": {
    "colab": {
     "base_uri": "https://localhost:8080/",
     "height": 270
    },
    "id": "c-TWTUctiXuY",
    "outputId": "13a489ef-4f77-4b1d-ee17-2802ee4e05e0"
   },
   "outputs": [
    {
     "data": {
      "text/html": [
       "<div>\n",
       "<style scoped>\n",
       "    .dataframe tbody tr th:only-of-type {\n",
       "        vertical-align: middle;\n",
       "    }\n",
       "\n",
       "    .dataframe tbody tr th {\n",
       "        vertical-align: top;\n",
       "    }\n",
       "\n",
       "    .dataframe thead th {\n",
       "        text-align: right;\n",
       "    }\n",
       "</style>\n",
       "<table border=\"1\" class=\"dataframe\">\n",
       "  <thead>\n",
       "    <tr style=\"text-align: right;\">\n",
       "      <th></th>\n",
       "      <th>floor</th>\n",
       "      <th>lat</th>\n",
       "      <th>lng</th>\n",
       "      <th>osm_amenity_points_in_0.001</th>\n",
       "      <th>osm_amenity_points_in_0.005</th>\n",
       "      <th>osm_amenity_points_in_0.0075</th>\n",
       "      <th>osm_amenity_points_in_0.01</th>\n",
       "      <th>osm_building_points_in_0.001</th>\n",
       "      <th>osm_building_points_in_0.005</th>\n",
       "      <th>osm_building_points_in_0.0075</th>\n",
       "      <th>...</th>\n",
       "      <th>osm_city_nearest_name_Черкесск</th>\n",
       "      <th>osm_city_nearest_name_Чита</th>\n",
       "      <th>osm_city_nearest_name_Шахты</th>\n",
       "      <th>osm_city_nearest_name_Щёлково</th>\n",
       "      <th>osm_city_nearest_name_Электросталь</th>\n",
       "      <th>osm_city_nearest_name_Элиста</th>\n",
       "      <th>osm_city_nearest_name_Энгельс</th>\n",
       "      <th>osm_city_nearest_name_Ярославль</th>\n",
       "      <th>osm_city_nearest_name_绥芬河市</th>\n",
       "      <th>osm_city_nearest_name_饶河县</th>\n",
       "    </tr>\n",
       "  </thead>\n",
       "  <tbody>\n",
       "    <tr>\n",
       "      <th>0</th>\n",
       "      <td>50.0</td>\n",
       "      <td>0.855954</td>\n",
       "      <td>0.500408</td>\n",
       "      <td>0.307182</td>\n",
       "      <td>-0.405401</td>\n",
       "      <td>-0.442959</td>\n",
       "      <td>-0.471795</td>\n",
       "      <td>-0.095757</td>\n",
       "      <td>-0.129142</td>\n",
       "      <td>-0.13826</td>\n",
       "      <td>...</td>\n",
       "      <td>0</td>\n",
       "      <td>0</td>\n",
       "      <td>0</td>\n",
       "      <td>0</td>\n",
       "      <td>0</td>\n",
       "      <td>0</td>\n",
       "      <td>0</td>\n",
       "      <td>0</td>\n",
       "      <td>0</td>\n",
       "      <td>0</td>\n",
       "    </tr>\n",
       "    <tr>\n",
       "      <th>1</th>\n",
       "      <td>50.0</td>\n",
       "      <td>0.285042</td>\n",
       "      <td>-0.482247</td>\n",
       "      <td>0.069225</td>\n",
       "      <td>-0.311580</td>\n",
       "      <td>-0.423946</td>\n",
       "      <td>-0.431166</td>\n",
       "      <td>-0.095757</td>\n",
       "      <td>-0.129142</td>\n",
       "      <td>-0.13826</td>\n",
       "      <td>...</td>\n",
       "      <td>0</td>\n",
       "      <td>0</td>\n",
       "      <td>0</td>\n",
       "      <td>0</td>\n",
       "      <td>0</td>\n",
       "      <td>0</td>\n",
       "      <td>0</td>\n",
       "      <td>0</td>\n",
       "      <td>0</td>\n",
       "      <td>0</td>\n",
       "    </tr>\n",
       "    <tr>\n",
       "      <th>2</th>\n",
       "      <td>50.0</td>\n",
       "      <td>0.766672</td>\n",
       "      <td>-0.464254</td>\n",
       "      <td>-0.406688</td>\n",
       "      <td>-0.198996</td>\n",
       "      <td>-0.138756</td>\n",
       "      <td>-0.030678</td>\n",
       "      <td>-0.095757</td>\n",
       "      <td>-0.129142</td>\n",
       "      <td>-0.07070</td>\n",
       "      <td>...</td>\n",
       "      <td>0</td>\n",
       "      <td>0</td>\n",
       "      <td>0</td>\n",
       "      <td>0</td>\n",
       "      <td>0</td>\n",
       "      <td>0</td>\n",
       "      <td>0</td>\n",
       "      <td>1</td>\n",
       "      <td>0</td>\n",
       "      <td>0</td>\n",
       "    </tr>\n",
       "    <tr>\n",
       "      <th>3</th>\n",
       "      <td>50.0</td>\n",
       "      <td>-0.109992</td>\n",
       "      <td>2.308360</td>\n",
       "      <td>-0.644645</td>\n",
       "      <td>-0.761919</td>\n",
       "      <td>-0.728149</td>\n",
       "      <td>-0.651724</td>\n",
       "      <td>-0.095757</td>\n",
       "      <td>-0.129142</td>\n",
       "      <td>-0.13826</td>\n",
       "      <td>...</td>\n",
       "      <td>0</td>\n",
       "      <td>0</td>\n",
       "      <td>0</td>\n",
       "      <td>0</td>\n",
       "      <td>0</td>\n",
       "      <td>0</td>\n",
       "      <td>0</td>\n",
       "      <td>0</td>\n",
       "      <td>0</td>\n",
       "      <td>0</td>\n",
       "    </tr>\n",
       "    <tr>\n",
       "      <th>4</th>\n",
       "      <td>50.0</td>\n",
       "      <td>0.338816</td>\n",
       "      <td>-0.602914</td>\n",
       "      <td>-0.406688</td>\n",
       "      <td>-0.330344</td>\n",
       "      <td>-0.167275</td>\n",
       "      <td>0.114427</td>\n",
       "      <td>-0.095757</td>\n",
       "      <td>0.016666</td>\n",
       "      <td>-0.07070</td>\n",
       "      <td>...</td>\n",
       "      <td>0</td>\n",
       "      <td>0</td>\n",
       "      <td>0</td>\n",
       "      <td>0</td>\n",
       "      <td>0</td>\n",
       "      <td>0</td>\n",
       "      <td>0</td>\n",
       "      <td>0</td>\n",
       "      <td>0</td>\n",
       "      <td>0</td>\n",
       "    </tr>\n",
       "  </tbody>\n",
       "</table>\n",
       "<p>5 rows × 241 columns</p>\n",
       "</div>"
      ],
      "text/plain": [
       "   floor       lat       lng  osm_amenity_points_in_0.001  \\\n",
       "0   50.0  0.855954  0.500408                     0.307182   \n",
       "1   50.0  0.285042 -0.482247                     0.069225   \n",
       "2   50.0  0.766672 -0.464254                    -0.406688   \n",
       "3   50.0 -0.109992  2.308360                    -0.644645   \n",
       "4   50.0  0.338816 -0.602914                    -0.406688   \n",
       "\n",
       "   osm_amenity_points_in_0.005  osm_amenity_points_in_0.0075  \\\n",
       "0                    -0.405401                     -0.442959   \n",
       "1                    -0.311580                     -0.423946   \n",
       "2                    -0.198996                     -0.138756   \n",
       "3                    -0.761919                     -0.728149   \n",
       "4                    -0.330344                     -0.167275   \n",
       "\n",
       "   osm_amenity_points_in_0.01  osm_building_points_in_0.001  \\\n",
       "0                   -0.471795                     -0.095757   \n",
       "1                   -0.431166                     -0.095757   \n",
       "2                   -0.030678                     -0.095757   \n",
       "3                   -0.651724                     -0.095757   \n",
       "4                    0.114427                     -0.095757   \n",
       "\n",
       "   osm_building_points_in_0.005  osm_building_points_in_0.0075  ...  \\\n",
       "0                     -0.129142                       -0.13826  ...   \n",
       "1                     -0.129142                       -0.13826  ...   \n",
       "2                     -0.129142                       -0.07070  ...   \n",
       "3                     -0.129142                       -0.13826  ...   \n",
       "4                      0.016666                       -0.07070  ...   \n",
       "\n",
       "   osm_city_nearest_name_Черкесск  osm_city_nearest_name_Чита  \\\n",
       "0                               0                           0   \n",
       "1                               0                           0   \n",
       "2                               0                           0   \n",
       "3                               0                           0   \n",
       "4                               0                           0   \n",
       "\n",
       "   osm_city_nearest_name_Шахты  osm_city_nearest_name_Щёлково  \\\n",
       "0                            0                              0   \n",
       "1                            0                              0   \n",
       "2                            0                              0   \n",
       "3                            0                              0   \n",
       "4                            0                              0   \n",
       "\n",
       "   osm_city_nearest_name_Электросталь  osm_city_nearest_name_Элиста  \\\n",
       "0                                   0                             0   \n",
       "1                                   0                             0   \n",
       "2                                   0                             0   \n",
       "3                                   0                             0   \n",
       "4                                   0                             0   \n",
       "\n",
       "   osm_city_nearest_name_Энгельс  osm_city_nearest_name_Ярославль  \\\n",
       "0                              0                                0   \n",
       "1                              0                                0   \n",
       "2                              0                                1   \n",
       "3                              0                                0   \n",
       "4                              0                                0   \n",
       "\n",
       "   osm_city_nearest_name_绥芬河市  osm_city_nearest_name_饶河县  \n",
       "0                           0                          0  \n",
       "1                           0                          0  \n",
       "2                           0                          0  \n",
       "3                           0                          0  \n",
       "4                           0                          0  \n",
       "\n",
       "[5 rows x 241 columns]"
      ]
     },
     "execution_count": 17,
     "metadata": {},
     "output_type": "execute_result"
    }
   ],
   "source": [
    "data.head() "
   ]
  },
  {
   "cell_type": "code",
   "execution_count": 18,
   "metadata": {
    "colab": {
     "base_uri": "https://localhost:8080/",
     "height": 309
    },
    "id": "-mzQj1hvrM47",
    "outputId": "67b9e493-9673-4b8d-c658-3922922a7349"
   },
   "outputs": [],
   "source": [
    "for missing_coloumn in data.columns.difference(test.columns):\n",
    "    if missing_coloumn != TARGET:\n",
    "        test[missing_coloumn] = 0"
   ]
  },
  {
   "cell_type": "code",
   "execution_count": 19,
   "metadata": {
    "id": "r-e8GoLLOnJx"
   },
   "outputs": [],
   "source": [
    "data.to_csv('../data/data_processed.csv')\n",
    "test.to_csv('../data/test_processed.csv')"
   ]
  },
  {
   "cell_type": "code",
   "execution_count": 20,
   "metadata": {
    "id": "9_4rdrvNiyVr"
   },
   "outputs": [
    {
     "data": {
      "text/plain": [
       "(Index(['per_square_meter_price'], dtype='object'), Index([], dtype='object'))"
      ]
     },
     "execution_count": 20,
     "metadata": {},
     "output_type": "execute_result"
    }
   ],
   "source": [
    "data.columns.difference(test.columns), test.columns.difference(data.columns)"
   ]
  }
 ],
 "metadata": {
  "colab": {
   "collapsed_sections": [],
   "name": "Raiff_preprocessing.ipynb",
   "provenance": []
  },
  "kernelspec": {
   "display_name": "Python 3 (ipykernel)",
   "language": "python",
   "name": "python3"
  },
  "language_info": {
   "codemirror_mode": {
    "name": "ipython",
    "version": 3
   },
   "file_extension": ".py",
   "mimetype": "text/x-python",
   "name": "python",
   "nbconvert_exporter": "python",
   "pygments_lexer": "ipython3",
   "version": "3.8.10"
  }
 },
 "nbformat": 4,
 "nbformat_minor": 1
}
